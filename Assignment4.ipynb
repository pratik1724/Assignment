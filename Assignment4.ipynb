{
 "cells": [
  {
   "cell_type": "code",
   "execution_count": 6,
   "id": "f13ea646-016d-475c-a44e-1cae32d0b6d9",
   "metadata": {},
   "outputs": [
    {
     "name": "stdout",
     "output_type": "stream",
     "text": [
      "1\n",
      "2\n",
      "3\n",
      "4\n",
      "5\n"
     ]
    }
   ],
   "source": [
    "#Print number from 1 to 5 uing a while loop.\n",
    "\n",
    "counter = 1\n",
    "\n",
    "while counter <= 5:\n",
    "    print(counter)\n",
    "    counter += 1"
   ]
  },
  {
   "cell_type": "code",
   "execution_count": 8,
   "id": "df5099cc-bdbc-4fe5-b9ba-9664089dc467",
   "metadata": {},
   "outputs": [
    {
     "name": "stdout",
     "output_type": "stream",
     "text": [
      "55\n"
     ]
    }
   ],
   "source": [
    "#Calclate the sum of numbers from 1 to 10 using a while loop.\n",
    "\n",
    "total = 0\n",
    "counter = 1\n",
    "\n",
    "while counter <= 10:\n",
    "    total += counter  \n",
    "    counter += 1\n",
    "print(total)"
   ]
  },
  {
   "cell_type": "code",
   "execution_count": 9,
   "id": "f65a1cd0-eb97-4c7e-ba3d-552cf0882cc4",
   "metadata": {},
   "outputs": [
    {
     "name": "stdout",
     "output_type": "stream",
     "text": [
      "Factorial of 5 is 120\n"
     ]
    }
   ],
   "source": [
    "#Calclate the factorial of a number using a for loop.\n",
    "\n",
    "def factorial(n):\n",
    "    result = 1  \n",
    "    for i in range(1, n + 1):\n",
    "        result *= i  \n",
    "    return result\n",
    "\n",
    "number = 5\n",
    "print(\"Factorial of\", number, \"is\", factorial(number))"
   ]
  },
  {
   "cell_type": "code",
   "execution_count": 10,
   "id": "8e36aa8f-318e-429a-aadc-0c90f09bb626",
   "metadata": {},
   "outputs": [
    {
     "name": "stdout",
     "output_type": "stream",
     "text": [
      "Number of vowels in ' Hello World ': 3\n"
     ]
    }
   ],
   "source": [
    "#Count the number of vowels in a string using a for loop.\n",
    "\n",
    "def count_vowels(string):\n",
    "    vowels = {'a', 'e', 'i', 'o', 'u'}\n",
    "    count = 0\n",
    "    for char in string:\n",
    "        if char.lower() in vowels:\n",
    "            count += 1\n",
    "    return count\n",
    "\n",
    "input_string = \"Hello World\"\n",
    "print(\"Number of vowels in '\", input_string, \"':\", count_vowels(input_string))"
   ]
  },
  {
   "cell_type": "code",
   "execution_count": 11,
   "id": "c2d5e874-e780-45bb-bf1f-d2331ad041b1",
   "metadata": {},
   "outputs": [
    {
     "name": "stdout",
     "output_type": "stream",
     "text": [
      "* \n",
      "* * \n",
      "* * * \n",
      "* * * * \n",
      "* * * * * \n"
     ]
    }
   ],
   "source": [
    "#Print a pattern using nested loop.\n",
    "\n",
    "size = 5\n",
    "\n",
    "for i in range(size):\n",
    "    for j in range(i + 1):\n",
    "        print(\"*\", end=\" \") \n",
    "    print()"
   ]
  },
  {
   "cell_type": "code",
   "execution_count": 12,
   "id": "811d571a-db2e-4bfe-8b7e-8de045698e05",
   "metadata": {},
   "outputs": [
    {
     "name": "stdout",
     "output_type": "stream",
     "text": [
      "   1    2    3    4    5    6    7    8    9   10 \n",
      "   2    4    6    8   10   12   14   16   18   20 \n",
      "   3    6    9   12   15   18   21   24   27   30 \n",
      "   4    8   12   16   20   24   28   32   36   40 \n",
      "   5   10   15   20   25   30   35   40   45   50 \n",
      "   6   12   18   24   30   36   42   48   54   60 \n",
      "   7   14   21   28   35   42   49   56   63   70 \n",
      "   8   16   24   32   40   48   56   64   72   80 \n",
      "   9   18   27   36   45   54   63   72   81   90 \n",
      "  10   20   30   40   50   60   70   80   90  100 \n"
     ]
    }
   ],
   "source": [
    "#Generate a mltiplication table using nested loop.\n",
    "\n",
    "size = 10\n",
    "\n",
    "for i in range(1, size + 1):\n",
    "    for j in range(1, size + 1):\n",
    "        value = i * j\n",
    "        print(f\"{value:4}\", end=\" \")\n",
    "    print()"
   ]
  },
  {
   "cell_type": "code",
   "execution_count": null,
   "id": "0d8ee261-6683-4869-88e4-56d8d53e4b97",
   "metadata": {},
   "outputs": [],
   "source": []
  }
 ],
 "metadata": {
  "kernelspec": {
   "display_name": "Python 3 (ipykernel)",
   "language": "python",
   "name": "python3"
  },
  "language_info": {
   "codemirror_mode": {
    "name": "ipython",
    "version": 3
   },
   "file_extension": ".py",
   "mimetype": "text/x-python",
   "name": "python",
   "nbconvert_exporter": "python",
   "pygments_lexer": "ipython3",
   "version": "3.10.8"
  }
 },
 "nbformat": 4,
 "nbformat_minor": 5
}
