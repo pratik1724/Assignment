{
  "nbformat": 4,
  "nbformat_minor": 0,
  "metadata": {
    "colab": {
      "provenance": []
    },
    "kernelspec": {
      "name": "python3",
      "display_name": "Python 3"
    },
    "language_info": {
      "name": "python"
    }
  },
  "cells": [
    {
      "cell_type": "code",
      "execution_count": 1,
      "metadata": {
        "colab": {
          "base_uri": "https://localhost:8080/"
        },
        "id": "QRm3dbsIklXa",
        "outputId": "a86ee3b1-7469-47d5-f71b-770e1b5f42e1"
      },
      "outputs": [
        {
          "output_type": "stream",
          "name": "stdout",
          "text": [
            "Integer: 42\n",
            "Floating-point: 42.0\n"
          ]
        }
      ],
      "source": [
        "integer = 42\n",
        "\n",
        "float = float(integer)\n",
        "\n",
        "print(\"Integer:\", integer)\n",
        "print(\"Floating-point:\", float)\n"
      ]
    },
    {
      "cell_type": "code",
      "source": [
        "float = 3.14\n",
        "\n",
        "integer = int(float)\n",
        "\n",
        "print(\"Floating-point:\", float)\n",
        "print(\"Integer:\", integer)\n"
      ],
      "metadata": {
        "colab": {
          "base_uri": "https://localhost:8080/"
        },
        "id": "E6dH-WNTk7tJ",
        "outputId": "6585e680-4e8b-4122-98c3-10aa2cf07b97"
      },
      "execution_count": 2,
      "outputs": [
        {
          "output_type": "stream",
          "name": "stdout",
          "text": [
            "Floating-point: 3.14\n",
            "Integer: 3\n"
          ]
        }
      ]
    },
    {
      "cell_type": "code",
      "source": [
        "my_integer = 42\n",
        "\n",
        "string = str(integer)\n",
        "\n",
        "print(\"Integer:\", integer)\n",
        "print(\"String:\", string)\n"
      ],
      "metadata": {
        "colab": {
          "base_uri": "https://localhost:8080/"
        },
        "id": "rL3YOe6XlORY",
        "outputId": "ac93505d-dd0e-4b56-d31d-567f48fce7a0"
      },
      "execution_count": 3,
      "outputs": [
        {
          "output_type": "stream",
          "name": "stdout",
          "text": [
            "Integer: 3\n",
            "String: 3\n"
          ]
        }
      ]
    },
    {
      "cell_type": "code",
      "source": [
        "list = [1, 2, 3, 4, 5]\n",
        "\n",
        "tuple = tuple(list)\n",
        "\n",
        "print(\"List:\", list)\n",
        "print(\"Tuple:\", tuple)\n"
      ],
      "metadata": {
        "colab": {
          "base_uri": "https://localhost:8080/"
        },
        "id": "2B0dCNlulcSM",
        "outputId": "6256f39a-a8cc-4e6c-de43-80f1835226b8"
      },
      "execution_count": 4,
      "outputs": [
        {
          "output_type": "stream",
          "name": "stdout",
          "text": [
            "List: [1, 2, 3, 4, 5]\n",
            "Tuple: (1, 2, 3, 4, 5)\n"
          ]
        }
      ]
    },
    {
      "cell_type": "code",
      "source": [
        "from builtins import list\n",
        "\n",
        "tuple = (1, 2, 3, 4, 5)\n",
        "\n",
        "list = list(tuple)\n",
        "\n",
        "print(\"Tuple:\", tuple)\n",
        "print(\"List:\", list)\n"
      ],
      "metadata": {
        "colab": {
          "base_uri": "https://localhost:8080/"
        },
        "id": "gaYKJI5QlxOA",
        "outputId": "feeb9e9e-820b-44dc-ff29-1297f283ba80"
      },
      "execution_count": 7,
      "outputs": [
        {
          "output_type": "stream",
          "name": "stdout",
          "text": [
            "Tuple: (1, 2, 3, 4, 5)\n",
            "List: [1, 2, 3, 4, 5]\n"
          ]
        }
      ]
    },
    {
      "cell_type": "code",
      "source": [
        "decimal_number = 10\n",
        "\n",
        "binary = bin(decimal_number)\n",
        "\n",
        "print(\"Decimal:\", decimal_number)\n",
        "print(\"Binary:\", binary)\n",
        "\n",
        "binary_without_prefix = bin(decimal_number)[2:]\n",
        "print(\"Binary (without prefix):\", binary_without_prefix)\n",
        "\n"
      ],
      "metadata": {
        "colab": {
          "base_uri": "https://localhost:8080/"
        },
        "id": "7Cz0AIhOmiD9",
        "outputId": "aa1e055e-6bd7-44e7-d660-a7ee92898ce5"
      },
      "execution_count": 11,
      "outputs": [
        {
          "output_type": "stream",
          "name": "stdout",
          "text": [
            "Decimal: 10\n",
            "Binary: 0b1010\n",
            "Binary (without prefix): 1010\n"
          ]
        }
      ]
    },
    {
      "cell_type": "code",
      "source": [
        "number = 42\n",
        "\n",
        "boolean_value = bool(number)\n",
        "\n",
        "print(\"Non-zero number:\", number)\n",
        "print(\"Boolean value:\", boolean_value)\n"
      ],
      "metadata": {
        "colab": {
          "base_uri": "https://localhost:8080/"
        },
        "id": "KfkMgNzvnQGK",
        "outputId": "05799bd6-73a2-4cab-a102-0ce97784700b"
      },
      "execution_count": 12,
      "outputs": [
        {
          "output_type": "stream",
          "name": "stdout",
          "text": [
            "Non-zero number: 42\n",
            "Boolean value: True\n"
          ]
        }
      ]
    }
  ]
}