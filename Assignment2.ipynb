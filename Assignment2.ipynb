{
  "nbformat": 4,
  "nbformat_minor": 0,
  "metadata": {
    "colab": {
      "provenance": []
    },
    "kernelspec": {
      "name": "python3",
      "display_name": "Python 3"
    },
    "language_info": {
      "name": "python"
    }
  },
  "cells": [
    {
      "cell_type": "code",
      "execution_count": 1,
      "metadata": {
        "colab": {
          "base_uri": "https://localhost:8080/"
        },
        "id": "b4ZIBfFruQA4",
        "outputId": "d91378cc-5d31-4619-9d47-2dbb7de7f09d"
      },
      "outputs": [
        {
          "output_type": "stream",
          "name": "stdout",
          "text": [
            "Number 1: 10\n",
            "Number 2: 5\n",
            "Sum: 15\n",
            "Difference: 5\n",
            "Product: 50\n",
            "Quotient: 2.0\n"
          ]
        }
      ],
      "source": [
        "number1 = 10\n",
        "number2 = 5\n",
        "\n",
        "sum_result = number1 + number2\n",
        "\n",
        "difference_result = number1 - number2\n",
        "\n",
        "product_result = number1 * number2\n",
        "\n",
        "quotient_result = number1 / number2\n",
        "\n",
        "print(\"Number 1:\", number1)\n",
        "print(\"Number 2:\", number2)\n",
        "print(\"Sum:\", sum_result)\n",
        "print(\"Difference:\", difference_result)\n",
        "print(\"Product:\", product_result)\n",
        "print(\"Quotient:\", quotient_result)\n"
      ]
    },
    {
      "cell_type": "code",
      "source": [
        "x = 10\n",
        "\n",
        "y = x\n",
        "print(\"Basic Assignment (y = x):\", y)\n",
        "\n",
        "x += 5\n",
        "print(\"Addition Assignment (x += 5):\", x)\n",
        "\n",
        "x -= 3\n",
        "print(\"Subtraction Assignment (x -= 3):\", x)\n",
        "\n",
        "x *= 2\n",
        "print(\"Multiplication Assignment (x *= 2):\", x)\n",
        "\n",
        "x /= 4\n",
        "print(\"Division Assignment (x /= 4):\", x)\n",
        "\n",
        "x %= 3\n",
        "print(\"Modulus Assignment (x %= 3):\", x)\n",
        "\n",
        "x **= 2\n",
        "print(\"Exponentiation Assignment (x **= 2):\", x)\n",
        "\n",
        "x //= 2\n",
        "print(\"Floor Division Assignment (x //= 2):\", x)\n"
      ],
      "metadata": {
        "colab": {
          "base_uri": "https://localhost:8080/"
        },
        "id": "O4ifZlybvYgn",
        "outputId": "9a3f4bef-b0e9-4ada-b4aa-68bb850f158e"
      },
      "execution_count": 2,
      "outputs": [
        {
          "output_type": "stream",
          "name": "stdout",
          "text": [
            "Basic Assignment (y = x): 10\n",
            "Addition Assignment (x += 5): 15\n",
            "Subtraction Assignment (x -= 3): 12\n",
            "Multiplication Assignment (x *= 2): 24\n",
            "Division Assignment (x /= 4): 6.0\n",
            "Modulus Assignment (x %= 3): 0.0\n",
            "Exponentiation Assignment (x **= 2): 0.0\n",
            "Floor Division Assignment (x //= 2): 0.0\n"
          ]
        }
      ]
    },
    {
      "cell_type": "code",
      "source": [
        "\n",
        "number1 = 10\n",
        "number2 = 5\n",
        "\n",
        "print(\"Number 1:\", number1)\n",
        "print(\"Number 2:\", number2)\n",
        "\n",
        "print(\"Equal to:\", number1 == number2)\n",
        "\n",
        "print(\"Not equal to:\", number1 != number2)\n",
        "\n",
        "print(\"Greater than:\", number1 > number2)\n",
        "\n",
        "print(\"Greater than or equal to:\", number1 >= number2)\n",
        "\n",
        "print(\"Less than:\", number1 < number2)\n",
        "\n",
        "print(\"Less than or equal to:\", number1 <= number2)\n"
      ],
      "metadata": {
        "colab": {
          "base_uri": "https://localhost:8080/"
        },
        "id": "BUdy8QrIvowu",
        "outputId": "de7ddd60-bcfd-4098-dd95-e3191eabafa7"
      },
      "execution_count": 3,
      "outputs": [
        {
          "output_type": "stream",
          "name": "stdout",
          "text": [
            "Number 1: 10\n",
            "Number 2: 5\n",
            "Equal to: False\n",
            "Not equal to: True\n",
            "Greater than: True\n",
            "Greater than or equal to: True\n",
            "Less than: False\n",
            "Less than or equal to: False\n"
          ]
        }
      ]
    },
    {
      "cell_type": "code",
      "source": [
        "# Any two numbers\n",
        "number1 = 10\n",
        "number2 = 5\n",
        "\n",
        "# Logical AND\n",
        "condition_and = (number1 > 5) and (number2 < 8)\n",
        "print(\"Logical AND:\", condition_and)\n",
        "\n",
        "# Logical OR\n",
        "condition_or = (number1 > 12) or (number2 < 3)\n",
        "print(\"Logical OR:\", condition_or)\n",
        "\n",
        "# Logical NOT\n",
        "condition_not = not (number1 == number2)\n",
        "print(\"Logical NOT:\", condition_not)\n"
      ],
      "metadata": {
        "colab": {
          "base_uri": "https://localhost:8080/"
        },
        "id": "vmgiOJnov-KY",
        "outputId": "19ab4244-3b1e-41db-8912-82532c94ed2e"
      },
      "execution_count": 1,
      "outputs": [
        {
          "output_type": "stream",
          "name": "stdout",
          "text": [
            "Logical AND: True\n",
            "Logical OR: False\n",
            "Logical NOT: True\n"
          ]
        }
      ]
    },
    {
      "cell_type": "code",
      "source": [
        "variable1 = [1, 2, 3]\n",
        "variable2 = [1, 2, 3]\n",
        "\n",
        "identity_check = variable1 is variable2\n",
        "\n",
        "print(\"Variable 1:\", variable1)\n",
        "print(\"Variable 2:\", variable2)\n",
        "print(\"Identity Check:\", identity_check)\n"
      ],
      "metadata": {
        "colab": {
          "base_uri": "https://localhost:8080/"
        },
        "id": "lomG5trhF9_a",
        "outputId": "9c4c9a28-c77c-4cce-9ce8-ec5dd5799d15"
      },
      "execution_count": 2,
      "outputs": [
        {
          "output_type": "stream",
          "name": "stdout",
          "text": [
            "Variable 1: [1, 2, 3]\n",
            "Variable 2: [1, 2, 3]\n",
            "Identity Check: False\n"
          ]
        }
      ]
    },
    {
      "cell_type": "code",
      "source": [
        "# Two integers\n",
        "integer1 = 10   # Binary: 1010\n",
        "integer2 = 5    # Binary: 0101\n",
        "\n",
        "# Bitwise AND\n",
        "bitwise_and_result = integer1 & integer2\n",
        "print(\"Bitwise AND:\", bitwise_and_result)\n",
        "\n",
        "# Bitwise OR\n",
        "bitwise_or = integer1 | integer2\n",
        "print(\"Bitwise OR:\", bitwise_or)\n",
        "\n",
        "# Bitwise XOR\n",
        "bitwise_xor = integer1 ^ integer2\n",
        "print(\"Bitwise XOR:\", bitwise_xor)\n",
        "\n",
        "# Bitwise NOT\n",
        "bitwise_not = ~integer1\n",
        "print(\"Bitwise NOT (integer1):\", bitwise_not)\n",
        "\n",
        "# Left shift\n",
        "left_shift = integer1 << 2\n",
        "print(\"Left Shift (integer1):\", left_shift)\n",
        "\n",
        "# Right shift\n",
        "right_shift = integer2 >> 1\n",
        "print(\"Right Shift (integer2):\", right_shift)\n"
      ],
      "metadata": {
        "colab": {
          "base_uri": "https://localhost:8080/"
        },
        "id": "rbgHwdNaGMVn",
        "outputId": "bcce9fd2-25b8-470e-f0b8-3d26f982cb4b"
      },
      "execution_count": 3,
      "outputs": [
        {
          "output_type": "stream",
          "name": "stdout",
          "text": [
            "Bitwise AND: 0\n",
            "Bitwise OR: 15\n",
            "Bitwise XOR: 15\n",
            "Bitwise NOT (integer1): -11\n",
            "Left Shift (integer1): 40\n",
            "Right Shift (integer2): 2\n"
          ]
        }
      ]
    },
    {
      "cell_type": "code",
      "source": [
        "# Original number\n",
        "original_number = 15\n",
        "\n",
        "negative_number = -original_number\n",
        "print(\"Original Number:\", original_number)\n",
        "print(\"Negative Number:\", negative_number)\n",
        "\n",
        "positive_number = +original_number\n",
        "print(\"Positive Number:\", positive_number)\n"
      ],
      "metadata": {
        "colab": {
          "base_uri": "https://localhost:8080/"
        },
        "id": "mfuqMFk-G38F",
        "outputId": "9a55881a-03e0-493d-e96f-8a6f0797a2a8"
      },
      "execution_count": 4,
      "outputs": [
        {
          "output_type": "stream",
          "name": "stdout",
          "text": [
            "Original Number: 15\n",
            "Negative Number: -15\n",
            "Positive Number: 15\n"
          ]
        }
      ]
    },
    {
      "cell_type": "code",
      "source": [
        "x = 10\n",
        "y = 5\n",
        "\n",
        "result = \"x is greater\" if x > y else \"y is greater or equal\"\n",
        "\n",
        "print(result)\n"
      ],
      "metadata": {
        "colab": {
          "base_uri": "https://localhost:8080/"
        },
        "id": "K0mcUaRkHYbh",
        "outputId": "40687bde-c1ad-42e1-9bc7-8531ad216fe9"
      },
      "execution_count": 5,
      "outputs": [
        {
          "output_type": "stream",
          "name": "stdout",
          "text": [
            "x is greater\n"
          ]
        }
      ]
    }
  ]
}